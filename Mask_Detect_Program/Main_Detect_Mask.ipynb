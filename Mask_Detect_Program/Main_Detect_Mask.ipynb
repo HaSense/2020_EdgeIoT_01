{
 "cells": [
  {
   "cell_type": "code",
   "execution_count": 1,
   "metadata": {},
   "outputs": [],
   "source": [
    "import Mask_Monitoring\n",
    "import Mask_Announce\n",
    "import Mask_Detection\n",
    "import cv2"
   ]
  },
  {
   "cell_type": "code",
   "execution_count": 2,
   "metadata": {},
   "outputs": [],
   "source": [
    "detec = Mask_Detection.Mask_Detection()"
   ]
  },
  {
   "cell_type": "code",
   "execution_count": null,
   "metadata": {},
   "outputs": [],
   "source": [
    "cap = detec.create_Cam(0)\n",
    "\n",
    "monitor = Mask_Monitoring.Mask_Monitoring()\n",
    "\n",
    "while True:\n",
    "    mask_check, img = detec.start_capture(cap)\n",
    "\n",
    "    cv2.imshow('img', img)\n",
    "\n",
    "    if cv2.waitKey(1) & 0xFF == ord('q'):\n",
    "        break\n",
    "\n",
    "    flag = monitor.maskCheck(mask_check, img)\n",
    "        \n",
    "    if flag == 1:\n",
    "        announce = Mask_Announce.Mask_Announce()\n",
    "        announce.passenger()\n",
    "detec.cap_release(cap)\n",
    "cv2.destroyAllWindows()"
   ]
  },
  {
   "cell_type": "code",
   "execution_count": null,
   "metadata": {},
   "outputs": [],
   "source": []
  }
 ],
 "metadata": {
  "kernelspec": {
   "display_name": "Python 3",
   "language": "python",
   "name": "python3"
  },
  "language_info": {
   "codemirror_mode": {
    "name": "ipython",
    "version": 3
   },
   "file_extension": ".py",
   "mimetype": "text/x-python",
   "name": "python",
   "nbconvert_exporter": "python",
   "pygments_lexer": "ipython3",
   "version": "3.7.9"
  }
 },
 "nbformat": 4,
 "nbformat_minor": 4
}
